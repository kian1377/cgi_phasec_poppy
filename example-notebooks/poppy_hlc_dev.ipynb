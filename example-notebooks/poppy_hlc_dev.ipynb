{
 "cells": [
  {
   "cell_type": "code",
   "execution_count": 1,
   "metadata": {
    "scrolled": false
   },
   "outputs": [
    {
     "name": "stdout",
     "output_type": "stream",
     "text": [
      "INFO:numexpr.utils:Note: NumExpr detected 64 cores but \"NUMEXPR_MAX_THREADS\" not set, so enforcing safe limit of 8.\n",
      "INFO:numexpr.utils:NumExpr defaulting to 8 threads.\n"
     ]
    }
   ],
   "source": [
    "import numpy as np\n",
    "import ray # for multiprocesing\n",
    "import astropy.units as u\n",
    "from astropy.io import fits\n",
    "from IPython.display import clear_output\n",
    "import time\n",
    "from pathlib import Path\n",
    "from matplotlib.patches import Circle\n",
    "from importlib import reload\n",
    "\n",
    "import warnings\n",
    "warnings.filterwarnings(\"ignore\")\n",
    "\n",
    "import logging, sys\n",
    "poppy_log = logging.getLogger('poppy')\n",
    "poppy_log.setLevel('DEBUG')\n",
    "logging.basicConfig(stream=sys.stdout, level=logging.INFO)\n",
    "poppy_log.disabled = True\n",
    "\n",
    "import cgi_phasec_poppy\n",
    "from cgi_phasec_poppy import imshows\n",
    "from cgi_phasec_poppy.math_module import xp\n",
    "\n",
    "import misc_funs as misc\n",
    "\n",
    "npix = 310\n",
    "\n",
    "iwa = 2.8\n",
    "owa = 9.7"
   ]
  },
  {
   "cell_type": "code",
   "execution_count": 2,
   "metadata": {
    "scrolled": false
   },
   "outputs": [
    {
     "ename": "FileNotFoundError",
     "evalue": "[Errno 2] No such file or directory: '/home/kianmilani/Projects/roman-cgi-phasec-data/hlc_20190210b/pupil_n310.fits'",
     "output_type": "error",
     "traceback": [
      "\u001b[0;31m---------------------------------------------------------------------------\u001b[0m",
      "\u001b[0;31mFileNotFoundError\u001b[0m                         Traceback (most recent call last)",
      "Cell \u001b[0;32mIn[2], line 4\u001b[0m\n\u001b[1;32m      2\u001b[0m reload(cgi_phasec_poppy\u001b[38;5;241m.\u001b[39mcgi_dev)\n\u001b[1;32m      3\u001b[0m reload(cgi_phasec_poppy\u001b[38;5;241m.\u001b[39mhlc_dev)\n\u001b[0;32m----> 4\u001b[0m mode \u001b[38;5;241m=\u001b[39m cgi_phasec_poppy\u001b[38;5;241m.\u001b[39mCGIDEV(cgi_mode\u001b[38;5;241m=\u001b[39m\u001b[38;5;124m'\u001b[39m\u001b[38;5;124mhlc\u001b[39m\u001b[38;5;124m'\u001b[39m, \n\u001b[1;32m      5\u001b[0m                use_pupil_defocus\u001b[38;5;241m=\u001b[39m\u001b[38;5;28;01mTrue\u001b[39;00m, \n\u001b[1;32m      6\u001b[0m                use_opds\u001b[38;5;241m=\u001b[39m\u001b[38;5;28;01mFalse\u001b[39;00m,\n\u001b[1;32m      7\u001b[0m                polaxis\u001b[38;5;241m=\u001b[39m\u001b[38;5;241m0\u001b[39m)\n\u001b[1;32m      9\u001b[0m wfs \u001b[38;5;241m=\u001b[39m mode\u001b[38;5;241m.\u001b[39mcalc_wfs()\n\u001b[1;32m     11\u001b[0m patches \u001b[38;5;241m=\u001b[39m [Circle((\u001b[38;5;241m0\u001b[39m, \u001b[38;5;241m0\u001b[39m), iwa, color\u001b[38;5;241m=\u001b[39m\u001b[38;5;124m'\u001b[39m\u001b[38;5;124mc\u001b[39m\u001b[38;5;124m'\u001b[39m, fill\u001b[38;5;241m=\u001b[39m\u001b[38;5;28;01mFalse\u001b[39;00m), Circle((\u001b[38;5;241m0\u001b[39m, \u001b[38;5;241m0\u001b[39m), owa, color\u001b[38;5;241m=\u001b[39m\u001b[38;5;124m'\u001b[39m\u001b[38;5;124mc\u001b[39m\u001b[38;5;124m'\u001b[39m, fill\u001b[38;5;241m=\u001b[39m\u001b[38;5;28;01mFalse\u001b[39;00m)]\n",
      "File \u001b[0;32m~/Projects/cgi_phasec_poppy/cgi_phasec_poppy/cgi_dev.py:77\u001b[0m, in \u001b[0;36mCGIDEV.__init__\u001b[0;34m(self, cgi_mode, wavelength, source_offset, npsf, psf_pixelscale, psf_pixelscale_lamD, interp_order, use_fpm, use_fieldstop, use_pupil_defocus, use_opds, dm1_ref, dm2_ref, polaxis, source_flux, exp_time, EMCCD)\u001b[0m\n\u001b[1;32m     74\u001b[0m     \u001b[38;5;28mself\u001b[39m\u001b[38;5;241m.\u001b[39mpsf_pixelscale_lamD \u001b[38;5;241m=\u001b[39m \u001b[38;5;241m1\u001b[39m\u001b[38;5;241m/\u001b[39m\u001b[38;5;241m2\u001b[39m \u001b[38;5;241m*\u001b[39m \u001b[38;5;241m0.5e-6\u001b[39m\u001b[38;5;241m/\u001b[39m\u001b[38;5;28mself\u001b[39m\u001b[38;5;241m.\u001b[39mwavelength_c\u001b[38;5;241m.\u001b[39mvalue \u001b[38;5;241m*\u001b[39m \u001b[38;5;28mself\u001b[39m\u001b[38;5;241m.\u001b[39mpsf_pixelscale\u001b[38;5;241m.\u001b[39mto(u\u001b[38;5;241m.\u001b[39mm\u001b[38;5;241m/\u001b[39mu\u001b[38;5;241m.\u001b[39mpix)\u001b[38;5;241m.\u001b[39mvalue\u001b[38;5;241m/\u001b[39m\u001b[38;5;241m13e-6\u001b[39m\n\u001b[1;32m     75\u001b[0m \u001b[38;5;28mself\u001b[39m\u001b[38;5;241m.\u001b[39minterp_order \u001b[38;5;241m=\u001b[39m interp_order \u001b[38;5;66;03m# interpolation order for resampling wavefront at detector\u001b[39;00m\n\u001b[0;32m---> 77\u001b[0m \u001b[38;5;28mself\u001b[39m\u001b[38;5;241m.\u001b[39minit_mode_optics()\n\u001b[1;32m     78\u001b[0m \u001b[38;5;28mself\u001b[39m\u001b[38;5;241m.\u001b[39minit_dms()\n\u001b[1;32m     80\u001b[0m \u001b[38;5;28mself\u001b[39m\u001b[38;5;241m.\u001b[39mdm1_ref \u001b[38;5;241m=\u001b[39m dm1_ref\n",
      "File \u001b[0;32m~/Projects/cgi_phasec_poppy/cgi_phasec_poppy/cgi_dev.py:104\u001b[0m, in \u001b[0;36mCGIDEV.init_mode_optics\u001b[0;34m(self)\u001b[0m\n\u001b[1;32m    101\u001b[0m         \u001b[38;5;28;01mif\u001b[39;00m \u001b[38;5;28mself\u001b[39m\u001b[38;5;241m.\u001b[39mcgi_mode\u001b[38;5;241m==\u001b[39m\u001b[38;5;124m'\u001b[39m\u001b[38;5;124mhlc\u001b[39m\u001b[38;5;124m'\u001b[39m:\n\u001b[1;32m    102\u001b[0m             \u001b[38;5;28mself\u001b[39m\u001b[38;5;241m.\u001b[39moptics_dir \u001b[38;5;241m=\u001b[39m cgi_phasec_poppy\u001b[38;5;241m.\u001b[39mdata_dir\u001b[38;5;241m/\u001b[39m\u001b[38;5;124m'\u001b[39m\u001b[38;5;124mhlc_20190210b\u001b[39m\u001b[38;5;124m'\u001b[39m\n\u001b[0;32m--> 104\u001b[0m             \u001b[38;5;28mself\u001b[39m\u001b[38;5;241m.\u001b[39mPUPIL \u001b[38;5;241m=\u001b[39m poppy\u001b[38;5;241m.\u001b[39mFITSOpticalElement(\u001b[38;5;124m'\u001b[39m\u001b[38;5;124mRoman Pupil\u001b[39m\u001b[38;5;124m'\u001b[39m, \n\u001b[1;32m    105\u001b[0m \u001b[38;5;66;03m#                                                   transmission=str(self.optics_dir/'pupil.fits'),\u001b[39;00m\n\u001b[1;32m    106\u001b[0m                                                   transmission\u001b[38;5;241m=\u001b[39m\u001b[38;5;28mstr\u001b[39m(\u001b[38;5;28mself\u001b[39m\u001b[38;5;241m.\u001b[39moptics_dir\u001b[38;5;241m/\u001b[39m\u001b[38;5;124m'\u001b[39m\u001b[38;5;124mpupil_n310.fits\u001b[39m\u001b[38;5;124m'\u001b[39m),\n\u001b[1;32m    107\u001b[0m                                                   pixelscale\u001b[38;5;241m=\u001b[39m\u001b[38;5;28mself\u001b[39m\u001b[38;5;241m.\u001b[39mpupil_diam\u001b[38;5;241m.\u001b[39mvalue\u001b[38;5;241m/\u001b[39m\u001b[38;5;241m310\u001b[39m,\n\u001b[1;32m    108\u001b[0m                                                   planetype\u001b[38;5;241m=\u001b[39mPlaneType\u001b[38;5;241m.\u001b[39mpupil)\n\u001b[1;32m    110\u001b[0m             \u001b[38;5;28mself\u001b[39m\u001b[38;5;241m.\u001b[39mSPM \u001b[38;5;241m=\u001b[39m poppy\u001b[38;5;241m.\u001b[39mScalarTransmission(\u001b[38;5;124m'\u001b[39m\u001b[38;5;124mSPM Plane (No Optic)\u001b[39m\u001b[38;5;124m'\u001b[39m, planetype\u001b[38;5;241m=\u001b[39mPlaneType\u001b[38;5;241m.\u001b[39mpupil)\n\u001b[1;32m    112\u001b[0m             \u001b[38;5;28mself\u001b[39m\u001b[38;5;241m.\u001b[39mdm2_mask \u001b[38;5;241m=\u001b[39m poppy\u001b[38;5;241m.\u001b[39mFITSOpticalElement(\u001b[38;5;124m'\u001b[39m\u001b[38;5;124mDM2 Mask\u001b[39m\u001b[38;5;124m'\u001b[39m, \n\u001b[1;32m    113\u001b[0m                                                      transmission\u001b[38;5;241m=\u001b[39m\u001b[38;5;28mstr\u001b[39m(\u001b[38;5;28mself\u001b[39m\u001b[38;5;241m.\u001b[39moptics_dir\u001b[38;5;241m/\u001b[39m\u001b[38;5;124m'\u001b[39m\u001b[38;5;124mdm2mask.fits\u001b[39m\u001b[38;5;124m'\u001b[39m),\n\u001b[1;32m    114\u001b[0m                                                      pixelscale\u001b[38;5;241m=\u001b[39m\u001b[38;5;241m1\u001b[39m,\n\u001b[1;32m    115\u001b[0m                                                      planetype\u001b[38;5;241m=\u001b[39mPlaneType\u001b[38;5;241m.\u001b[39mintermediate)\n",
      "File \u001b[0;32m~/Projects/poppy/poppy/poppy_core.py:2944\u001b[0m, in \u001b[0;36mFITSOpticalElement.__init__\u001b[0;34m(self, name, transmission, opd, opdunits, rotation, pixelscale, planetype, transmission_index, opd_index, shift, shift_x, shift_y, flip_x, flip_y, **kwargs)\u001b[0m\n\u001b[1;32m   2942\u001b[0m \u001b[38;5;28;01mif\u001b[39;00m \u001b[38;5;28misinstance\u001b[39m(transmission, \u001b[38;5;28mstr\u001b[39m):\n\u001b[1;32m   2943\u001b[0m     \u001b[38;5;28mself\u001b[39m\u001b[38;5;241m.\u001b[39mamplitude_file \u001b[38;5;241m=\u001b[39m transmission\n\u001b[0;32m-> 2944\u001b[0m     \u001b[38;5;28mself\u001b[39m\u001b[38;5;241m.\u001b[39mamplitude, \u001b[38;5;28mself\u001b[39m\u001b[38;5;241m.\u001b[39mamplitude_header \u001b[38;5;241m=\u001b[39m fits\u001b[38;5;241m.\u001b[39mgetdata(\u001b[38;5;28mself\u001b[39m\u001b[38;5;241m.\u001b[39mamplitude_file, header\u001b[38;5;241m=\u001b[39m\u001b[38;5;28;01mTrue\u001b[39;00m)\n\u001b[1;32m   2945\u001b[0m     \u001b[38;5;28mself\u001b[39m\u001b[38;5;241m.\u001b[39mamplitude \u001b[38;5;241m=\u001b[39m \u001b[38;5;28mself\u001b[39m\u001b[38;5;241m.\u001b[39mamplitude\u001b[38;5;241m.\u001b[39mastype(\u001b[38;5;124m'\u001b[39m\u001b[38;5;124m=f8\u001b[39m\u001b[38;5;124m'\u001b[39m)  \u001b[38;5;66;03m# ensure native byte order, see #213\u001b[39;00m\n\u001b[1;32m   2946\u001b[0m     \u001b[38;5;28mself\u001b[39m\u001b[38;5;241m.\u001b[39mamplitude \u001b[38;5;241m=\u001b[39m xp\u001b[38;5;241m.\u001b[39masarray(\u001b[38;5;28mself\u001b[39m\u001b[38;5;241m.\u001b[39mamplitude)  \u001b[38;5;66;03m# sets to CuPy array if xp is cupy\u001b[39;00m\n",
      "File \u001b[0;32m~/miniconda3/envs/gpu311env/lib/python3.11/site-packages/astropy/io/fits/convenience.py:220\u001b[0m, in \u001b[0;36mgetdata\u001b[0;34m(filename, header, lower, upper, view, *args, **kwargs)\u001b[0m\n\u001b[1;32m    215\u001b[0m extver \u001b[38;5;241m=\u001b[39m kwargs\u001b[38;5;241m.\u001b[39mget(\u001b[38;5;124m\"\u001b[39m\u001b[38;5;124mextver\u001b[39m\u001b[38;5;124m\"\u001b[39m)\n\u001b[1;32m    216\u001b[0m ext_given \u001b[38;5;241m=\u001b[39m \u001b[38;5;129;01mnot\u001b[39;00m (\n\u001b[1;32m    217\u001b[0m     \u001b[38;5;28mlen\u001b[39m(args) \u001b[38;5;241m==\u001b[39m \u001b[38;5;241m0\u001b[39m \u001b[38;5;129;01mand\u001b[39;00m ext \u001b[38;5;129;01mis\u001b[39;00m \u001b[38;5;28;01mNone\u001b[39;00m \u001b[38;5;129;01mand\u001b[39;00m extname \u001b[38;5;129;01mis\u001b[39;00m \u001b[38;5;28;01mNone\u001b[39;00m \u001b[38;5;129;01mand\u001b[39;00m extver \u001b[38;5;129;01mis\u001b[39;00m \u001b[38;5;28;01mNone\u001b[39;00m\n\u001b[1;32m    218\u001b[0m )\n\u001b[0;32m--> 220\u001b[0m hdulist, extidx \u001b[38;5;241m=\u001b[39m _getext(filename, mode, \u001b[38;5;241m*\u001b[39margs, \u001b[38;5;241m*\u001b[39m\u001b[38;5;241m*\u001b[39mkwargs)\n\u001b[1;32m    221\u001b[0m \u001b[38;5;28;01mtry\u001b[39;00m:\n\u001b[1;32m    222\u001b[0m     hdu \u001b[38;5;241m=\u001b[39m hdulist[extidx]\n",
      "File \u001b[0;32m~/miniconda3/envs/gpu311env/lib/python3.11/site-packages/astropy/io/fits/convenience.py:1113\u001b[0m, in \u001b[0;36m_getext\u001b[0;34m(filename, mode, ext, extname, extver, *args, **kwargs)\u001b[0m\n\u001b[1;32m   1110\u001b[0m \u001b[38;5;28;01melif\u001b[39;00m extver \u001b[38;5;129;01mand\u001b[39;00m extname \u001b[38;5;129;01mis\u001b[39;00m \u001b[38;5;28;01mNone\u001b[39;00m:\n\u001b[1;32m   1111\u001b[0m     \u001b[38;5;28;01mraise\u001b[39;00m \u001b[38;5;167;01mTypeError\u001b[39;00m(\u001b[38;5;124m\"\u001b[39m\u001b[38;5;124mextver alone cannot specify an extension.\u001b[39m\u001b[38;5;124m\"\u001b[39m)\n\u001b[0;32m-> 1113\u001b[0m hdulist \u001b[38;5;241m=\u001b[39m fitsopen(filename, mode\u001b[38;5;241m=\u001b[39mmode, \u001b[38;5;241m*\u001b[39m\u001b[38;5;241m*\u001b[39mkwargs)\n\u001b[1;32m   1115\u001b[0m \u001b[38;5;28;01mreturn\u001b[39;00m hdulist, ext\n",
      "File \u001b[0;32m~/miniconda3/envs/gpu311env/lib/python3.11/site-packages/astropy/io/fits/hdu/hdulist.py:213\u001b[0m, in \u001b[0;36mfitsopen\u001b[0;34m(name, mode, memmap, save_backup, cache, lazy_load_hdus, ignore_missing_simple, use_fsspec, fsspec_kwargs, **kwargs)\u001b[0m\n\u001b[1;32m    210\u001b[0m \u001b[38;5;28;01mif\u001b[39;00m \u001b[38;5;129;01mnot\u001b[39;00m name:\n\u001b[1;32m    211\u001b[0m     \u001b[38;5;28;01mraise\u001b[39;00m \u001b[38;5;167;01mValueError\u001b[39;00m(\u001b[38;5;124mf\u001b[39m\u001b[38;5;124m\"\u001b[39m\u001b[38;5;124mEmpty filename: \u001b[39m\u001b[38;5;132;01m{\u001b[39;00mname\u001b[38;5;132;01m!r}\u001b[39;00m\u001b[38;5;124m\"\u001b[39m)\n\u001b[0;32m--> 213\u001b[0m \u001b[38;5;28;01mreturn\u001b[39;00m HDUList\u001b[38;5;241m.\u001b[39mfromfile(\n\u001b[1;32m    214\u001b[0m     name,\n\u001b[1;32m    215\u001b[0m     mode,\n\u001b[1;32m    216\u001b[0m     memmap,\n\u001b[1;32m    217\u001b[0m     save_backup,\n\u001b[1;32m    218\u001b[0m     cache,\n\u001b[1;32m    219\u001b[0m     lazy_load_hdus,\n\u001b[1;32m    220\u001b[0m     ignore_missing_simple,\n\u001b[1;32m    221\u001b[0m     use_fsspec\u001b[38;5;241m=\u001b[39muse_fsspec,\n\u001b[1;32m    222\u001b[0m     fsspec_kwargs\u001b[38;5;241m=\u001b[39mfsspec_kwargs,\n\u001b[1;32m    223\u001b[0m     \u001b[38;5;241m*\u001b[39m\u001b[38;5;241m*\u001b[39mkwargs,\n\u001b[1;32m    224\u001b[0m )\n",
      "File \u001b[0;32m~/miniconda3/envs/gpu311env/lib/python3.11/site-packages/astropy/io/fits/hdu/hdulist.py:476\u001b[0m, in \u001b[0;36mHDUList.fromfile\u001b[0;34m(cls, fileobj, mode, memmap, save_backup, cache, lazy_load_hdus, ignore_missing_simple, **kwargs)\u001b[0m\n\u001b[1;32m    457\u001b[0m \u001b[38;5;129m@classmethod\u001b[39m\n\u001b[1;32m    458\u001b[0m \u001b[38;5;28;01mdef\u001b[39;00m \u001b[38;5;21mfromfile\u001b[39m(\n\u001b[1;32m    459\u001b[0m     \u001b[38;5;28mcls\u001b[39m,\n\u001b[0;32m   (...)\u001b[0m\n\u001b[1;32m    467\u001b[0m     \u001b[38;5;241m*\u001b[39m\u001b[38;5;241m*\u001b[39mkwargs,\n\u001b[1;32m    468\u001b[0m ):\n\u001b[1;32m    469\u001b[0m \u001b[38;5;250m    \u001b[39m\u001b[38;5;124;03m\"\"\"\u001b[39;00m\n\u001b[1;32m    470\u001b[0m \u001b[38;5;124;03m    Creates an `HDUList` instance from a file-like object.\u001b[39;00m\n\u001b[1;32m    471\u001b[0m \n\u001b[0;32m   (...)\u001b[0m\n\u001b[1;32m    474\u001b[0m \u001b[38;5;124;03m    documentation for details of the parameters accepted by this method).\u001b[39;00m\n\u001b[1;32m    475\u001b[0m \u001b[38;5;124;03m    \"\"\"\u001b[39;00m\n\u001b[0;32m--> 476\u001b[0m     \u001b[38;5;28;01mreturn\u001b[39;00m \u001b[38;5;28mcls\u001b[39m\u001b[38;5;241m.\u001b[39m_readfrom(\n\u001b[1;32m    477\u001b[0m         fileobj\u001b[38;5;241m=\u001b[39mfileobj,\n\u001b[1;32m    478\u001b[0m         mode\u001b[38;5;241m=\u001b[39mmode,\n\u001b[1;32m    479\u001b[0m         memmap\u001b[38;5;241m=\u001b[39mmemmap,\n\u001b[1;32m    480\u001b[0m         save_backup\u001b[38;5;241m=\u001b[39msave_backup,\n\u001b[1;32m    481\u001b[0m         cache\u001b[38;5;241m=\u001b[39mcache,\n\u001b[1;32m    482\u001b[0m         ignore_missing_simple\u001b[38;5;241m=\u001b[39mignore_missing_simple,\n\u001b[1;32m    483\u001b[0m         lazy_load_hdus\u001b[38;5;241m=\u001b[39mlazy_load_hdus,\n\u001b[1;32m    484\u001b[0m         \u001b[38;5;241m*\u001b[39m\u001b[38;5;241m*\u001b[39mkwargs,\n\u001b[1;32m    485\u001b[0m     )\n",
      "File \u001b[0;32m~/miniconda3/envs/gpu311env/lib/python3.11/site-packages/astropy/io/fits/hdu/hdulist.py:1146\u001b[0m, in \u001b[0;36mHDUList._readfrom\u001b[0;34m(cls, fileobj, data, mode, memmap, cache, lazy_load_hdus, ignore_missing_simple, use_fsspec, fsspec_kwargs, **kwargs)\u001b[0m\n\u001b[1;32m   1143\u001b[0m \u001b[38;5;28;01mif\u001b[39;00m fileobj \u001b[38;5;129;01mis\u001b[39;00m \u001b[38;5;129;01mnot\u001b[39;00m \u001b[38;5;28;01mNone\u001b[39;00m:\n\u001b[1;32m   1144\u001b[0m     \u001b[38;5;28;01mif\u001b[39;00m \u001b[38;5;129;01mnot\u001b[39;00m \u001b[38;5;28misinstance\u001b[39m(fileobj, _File):\n\u001b[1;32m   1145\u001b[0m         \u001b[38;5;66;03m# instantiate a FITS file object (ffo)\u001b[39;00m\n\u001b[0;32m-> 1146\u001b[0m         fileobj \u001b[38;5;241m=\u001b[39m _File(\n\u001b[1;32m   1147\u001b[0m             fileobj,\n\u001b[1;32m   1148\u001b[0m             mode\u001b[38;5;241m=\u001b[39mmode,\n\u001b[1;32m   1149\u001b[0m             memmap\u001b[38;5;241m=\u001b[39mmemmap,\n\u001b[1;32m   1150\u001b[0m             cache\u001b[38;5;241m=\u001b[39mcache,\n\u001b[1;32m   1151\u001b[0m             use_fsspec\u001b[38;5;241m=\u001b[39muse_fsspec,\n\u001b[1;32m   1152\u001b[0m             fsspec_kwargs\u001b[38;5;241m=\u001b[39mfsspec_kwargs,\n\u001b[1;32m   1153\u001b[0m         )\n\u001b[1;32m   1154\u001b[0m     \u001b[38;5;66;03m# The Astropy mode is determined by the _File initializer if the\u001b[39;00m\n\u001b[1;32m   1155\u001b[0m     \u001b[38;5;66;03m# supplied mode was None\u001b[39;00m\n\u001b[1;32m   1156\u001b[0m     mode \u001b[38;5;241m=\u001b[39m fileobj\u001b[38;5;241m.\u001b[39mmode\n",
      "File \u001b[0;32m~/miniconda3/envs/gpu311env/lib/python3.11/site-packages/astropy/io/fits/file.py:217\u001b[0m, in \u001b[0;36m_File.__init__\u001b[0;34m(self, fileobj, mode, memmap, overwrite, cache, use_fsspec, fsspec_kwargs)\u001b[0m\n\u001b[1;32m    215\u001b[0m     \u001b[38;5;28mself\u001b[39m\u001b[38;5;241m.\u001b[39m_open_fileobj(fileobj, mode, overwrite)\n\u001b[1;32m    216\u001b[0m \u001b[38;5;28;01melif\u001b[39;00m \u001b[38;5;28misinstance\u001b[39m(fileobj, (\u001b[38;5;28mstr\u001b[39m, \u001b[38;5;28mbytes\u001b[39m)):\n\u001b[0;32m--> 217\u001b[0m     \u001b[38;5;28mself\u001b[39m\u001b[38;5;241m.\u001b[39m_open_filename(fileobj, mode, overwrite)\n\u001b[1;32m    218\u001b[0m \u001b[38;5;28;01melse\u001b[39;00m:\n\u001b[1;32m    219\u001b[0m     \u001b[38;5;28mself\u001b[39m\u001b[38;5;241m.\u001b[39m_open_filelike(fileobj, mode, overwrite)\n",
      "File \u001b[0;32m~/miniconda3/envs/gpu311env/lib/python3.11/site-packages/astropy/io/fits/file.py:626\u001b[0m, in \u001b[0;36m_File._open_filename\u001b[0;34m(self, filename, mode, overwrite)\u001b[0m\n\u001b[1;32m    623\u001b[0m ext \u001b[38;5;241m=\u001b[39m os\u001b[38;5;241m.\u001b[39mpath\u001b[38;5;241m.\u001b[39msplitext(\u001b[38;5;28mself\u001b[39m\u001b[38;5;241m.\u001b[39mname)[\u001b[38;5;241m1\u001b[39m]\n\u001b[1;32m    625\u001b[0m \u001b[38;5;28;01mif\u001b[39;00m \u001b[38;5;129;01mnot\u001b[39;00m \u001b[38;5;28mself\u001b[39m\u001b[38;5;241m.\u001b[39m_try_read_compressed(\u001b[38;5;28mself\u001b[39m\u001b[38;5;241m.\u001b[39mname, magic, mode, ext\u001b[38;5;241m=\u001b[39mext):\n\u001b[0;32m--> 626\u001b[0m     \u001b[38;5;28mself\u001b[39m\u001b[38;5;241m.\u001b[39m_file \u001b[38;5;241m=\u001b[39m \u001b[38;5;28mopen\u001b[39m(\u001b[38;5;28mself\u001b[39m\u001b[38;5;241m.\u001b[39mname, IO_FITS_MODES[mode])\n\u001b[1;32m    627\u001b[0m     \u001b[38;5;28mself\u001b[39m\u001b[38;5;241m.\u001b[39mclose_on_error \u001b[38;5;241m=\u001b[39m \u001b[38;5;28;01mTrue\u001b[39;00m\n\u001b[1;32m    629\u001b[0m \u001b[38;5;66;03m# Make certain we're back at the beginning of the file\u001b[39;00m\n\u001b[1;32m    630\u001b[0m \u001b[38;5;66;03m# BZ2File does not support seek when the file is open for writing, but\u001b[39;00m\n\u001b[1;32m    631\u001b[0m \u001b[38;5;66;03m# when opening a file for write, bz2.BZ2File always truncates anyway.\u001b[39;00m\n",
      "\u001b[0;31mFileNotFoundError\u001b[0m: [Errno 2] No such file or directory: '/home/kianmilani/Projects/roman-cgi-phasec-data/hlc_20190210b/pupil_n310.fits'"
     ]
    }
   ],
   "source": [
    "reload(cgi_phasec_poppy)\n",
    "reload(cgi_phasec_poppy.cgi_dev)\n",
    "reload(cgi_phasec_poppy.hlc_dev)\n",
    "mode = cgi_phasec_poppy.CGIDEV(cgi_mode='hlc', \n",
    "               use_pupil_defocus=True, \n",
    "               use_opds=False,\n",
    "               polaxis=0)\n",
    "\n",
    "wfs = mode.calc_wfs()\n",
    "\n",
    "patches = [Circle((0, 0), iwa, color='c', fill=False), Circle((0, 0), owa, color='c', fill=False)]\n",
    "imshows.imshow1(wfs[-1].intensity, lognorm=True, pxscl=mode.psf_pixelscale_lamD, patches=patches)"
   ]
  }
 ],
 "metadata": {
  "kernelspec": {
   "display_name": "Python 3 (ipykernel)",
   "language": "python",
   "name": "python3"
  },
  "language_info": {
   "codemirror_mode": {
    "name": "ipython",
    "version": 3
   },
   "file_extension": ".py",
   "mimetype": "text/x-python",
   "name": "python",
   "nbconvert_exporter": "python",
   "pygments_lexer": "ipython3",
   "version": "3.11.3"
  }
 },
 "nbformat": 4,
 "nbformat_minor": 4
}
